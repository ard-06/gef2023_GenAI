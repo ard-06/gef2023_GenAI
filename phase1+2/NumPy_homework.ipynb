{
 "cells": [
  {
   "cell_type": "code",
   "execution_count": 1,
   "metadata": {},
   "outputs": [],
   "source": [
    "import numpy"
   ]
  },
  {
   "cell_type": "markdown",
   "metadata": {},
   "source": [
    "1. Consider the matrices you encountered in the written test:\n",
    "\n"
   ]
  },
  {
   "cell_type": "markdown",
   "metadata": {},
   "source": [
    "$\n",
    "A = \\begin{bmatrix}\n",
    "0 & 7 & 7 \\\\\n",
    "2 & 9 & 1\n",
    "\\end{bmatrix}\n",
    "$,\n",
    "$\n",
    "B = \\begin{bmatrix}\n",
    "1 & 5 \\\\\n",
    "3 & 6\n",
    "\\end{bmatrix} \n",
    "$\n",
    "\n",
    "Calculate $BA$, $A^TB$, $B^TA$ using NumPy "
   ]
  },
  {
   "cell_type": "code",
   "execution_count": null,
   "metadata": {},
   "outputs": [],
   "source": []
  },
  {
   "cell_type": "code",
   "execution_count": null,
   "metadata": {},
   "outputs": [],
   "source": []
  },
  {
   "cell_type": "code",
   "execution_count": null,
   "metadata": {},
   "outputs": [],
   "source": []
  },
  {
   "cell_type": "code",
   "execution_count": null,
   "metadata": {},
   "outputs": [],
   "source": []
  },
  {
   "cell_type": "markdown",
   "metadata": {},
   "source": [
    "2. Consider the matrix\n",
    "$\n",
    "A = \\begin{bmatrix}\n",
    "3 & 0 & 6 & 2 \\\\\n",
    "4 & 7 & 0 & 0 \\\\\n",
    "3 & 6 & 9 & 12\\\\\n",
    "2 & 4 & 6 & 8\n",
    "\\end{bmatrix}\n",
    "$, calculate $\\det(A)$ using NumPy. Does the inverse exist? If so, calculate it using NumPy."
   ]
  },
  {
   "cell_type": "code",
   "execution_count": null,
   "metadata": {},
   "outputs": [],
   "source": []
  },
  {
   "cell_type": "code",
   "execution_count": null,
   "metadata": {},
   "outputs": [],
   "source": []
  },
  {
   "cell_type": "markdown",
   "metadata": {},
   "source": [
    "3. Consider the matrix\n",
    "$\n",
    "B = \\begin{bmatrix}\n",
    "3 & 0 & 6 & 2 \\\\\n",
    "4 & 7 & 0 & 0 \\\\\n",
    "3 & 6 & 9 & 12\\\\\n",
    "2 & 4 & 6 & 9\n",
    "\\end{bmatrix}\n",
    "$, calculate $\\det(B)$ using NumPy. Does the inverse exist? If so, calculate it using NumPy."
   ]
  },
  {
   "cell_type": "code",
   "execution_count": null,
   "metadata": {},
   "outputs": [],
   "source": []
  },
  {
   "cell_type": "code",
   "execution_count": null,
   "metadata": {},
   "outputs": [],
   "source": []
  }
 ],
 "metadata": {
  "kernelspec": {
   "display_name": "Python 3",
   "language": "python",
   "name": "python3"
  },
  "language_info": {
   "codemirror_mode": {
    "name": "ipython",
    "version": 3
   },
   "file_extension": ".py",
   "mimetype": "text/x-python",
   "name": "python",
   "nbconvert_exporter": "python",
   "pygments_lexer": "ipython3",
   "version": "3.7.16"
  }
 },
 "nbformat": 4,
 "nbformat_minor": 2
}
