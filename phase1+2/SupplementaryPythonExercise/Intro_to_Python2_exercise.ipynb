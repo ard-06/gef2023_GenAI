{
 "cells": [
  {
   "cell_type": "markdown",
   "metadata": {},
   "source": [
    "# Import required packages"
   ]
  },
  {
   "cell_type": "code",
   "execution_count": 113,
   "metadata": {},
   "outputs": [],
   "source": [
    "import matplotlib.pyplot as plt\n",
    "import numpy as np\n",
    "from itertools import combinations"
   ]
  },
  {
   "cell_type": "markdown",
   "metadata": {
    "id": "eOfgwtNJWnS_"
   },
   "source": [
    "# Exercise 1 - Calculating the Eye Aspect Ratio (EAR) for liveness detection"
   ]
  },
  {
   "cell_type": "code",
   "execution_count": 114,
   "metadata": {
    "id": "sQzGSpCwWnTA",
    "outputId": "48a9da6e-62dc-44c6-b103-f69ced702d37"
   },
   "outputs": [
    {
     "data": {
      "application/javascript": "MathJax.Hub.Config({\n    TeX: { equationNumbers: { autoNumber: \"AMS\" } }\n});\n",
      "text/plain": [
       "<IPython.core.display.Javascript object>"
      ]
     },
     "metadata": {},
     "output_type": "display_data"
    }
   ],
   "source": [
    "%%javascript\n",
    "MathJax.Hub.Config({\n",
    "    TeX: { equationNumbers: { autoNumber: \"AMS\" } }\n",
    "});"
   ]
  },
  {
   "cell_type": "markdown",
   "metadata": {
    "id": "fwJyMHOoWnTD"
   },
   "source": [
    "For anti-spoofing in face recognition, we have to distinguish whether the face images are real faces captured from a live person or are spoof faces (i.e. faces detected from an image in a device like mobile phone), this is called liveness detection. \n",
    "\n",
    "One of the liveness detection methods is to detect eyes blinking, this can be done by estimating the level of the eye opening from the eyes facial landmarks (i.e. the coordinates of various points in the region around the eyes)$^{[1]}$. The level of the eye opening is measured by a scalar quantity called Eye Aspect Ratio (EAR) defined by the below equation:\n",
    "\n",
    "\n",
    "\n",
    "\\begin{equation}\n",
    "EAR = \\frac{||p_2 - p_6||+||p_3 - p_5||}{2 ||p_1 - p_4||},\n",
    "\\end{equation}\n",
    "\n",
    "\n",
    "where $p_i$ for $i=1,2 \\ldots 6$ are the points specified in the below figure, these can be obtained by the face_recognition library, each point $p_i$ is represented by a tuple of $(x_i, y_i)$ coordinates:\n",
    "\n"
   ]
  },
  {
   "cell_type": "markdown",
   "metadata": {},
   "source": [
    "<br>\n",
    "<center>\n",
    "<img src='eye.jpg' width=\"540\" height=\"540\" />    \n",
    "<figcaption >Fig.1 - Eyes facial landmarks.</figcaption>\n",
    "</center>\n",
    "<br>\n",
    "\n",
    "\n"
   ]
  },
  {
   "cell_type": "markdown",
   "metadata": {},
   "source": [
    "and $||p_i-p_j||$ is the Euclidean distance between the points $p_i$ and $p_j$, given by the below equation:\n",
    "\n",
    "\\begin{equation}\n",
    "||p_i-p_j|| = \\sqrt{(x_i - x_j)^2+(y_i - y_j)^2}\n",
    "\\end{equation}\n",
    "\n",
    "When the eyes blink, the EARs drop temporarily (Fig.2), these eyes blinking events can then by recognized by thresholding or by machine learning methods, such as support vector machine.\n",
    "\n"
   ]
  },
  {
   "cell_type": "markdown",
   "metadata": {},
   "source": [
    "<br>\n",
    "<center>\n",
    "<img src=\"eye2.jpg\" width=\"540\" height=\"540\" />    \n",
    "<figcaption >Fig.2 - Plot of EAR from several frames of a video capturing a single eyes blink event.</figcaption>\n",
    "</center>\n",
    "<br>\n",
    "\n"
   ]
  },
  {
   "cell_type": "markdown",
   "metadata": {},
   "source": [
    "Reference: \n",
    "1. T. Soukupova and J. Cech, “Real-time eye blink detection using facial landmarks,” in 21st Computer Vision Winter Workshop (CVWW2016),2016, pp. 1–8."
   ]
  },
  {
   "cell_type": "markdown",
   "metadata": {
    "id": "SHr-iqqaWnTE"
   },
   "source": [
    "### Problem\n",
    "\n",
    "You are given a list of list of tuples storing the eyes facial landmarks, i.e. a list storing the eyes landmarks of different video frames, the landmarks of each frame is stored in another list of tuples, the $1^{st},2^{nd},\\ldots,6^{th}$ tuples are the points $p_1, p_2,\\ldots,p_6$ respectively, and each tuple $(x_i,y_i)$ is the x,y-coordinate of the point $p_i$. Some elements of the list are empty lists, which means no faces are detected in that frame. \n",
    "\n",
    "__Write two functions, one for calculating the Euclidean distance, one for calculating the EAR.__\n",
    "\n",
    "For the Euclidean distance function, accepts two tuples representing the coordinates of two points as the function arguments and return the Euclidean distance, name the function as distance().\n",
    "\n",
    "For the EAR function, accepts a list of tuples (the landmarks of each video frame) as the function argument. Determine whether the input is an empty list, returns None if so, otherwise calculates and returns the EAR. Name the function as eye_aspect_ratio()."
   ]
  },
  {
   "cell_type": "code",
   "execution_count": 115,
   "metadata": {
    "id": "Hg1M9xSdWnTF"
   },
   "outputs": [],
   "source": [
    "landmarks = [[(48, 58), (59, 56), (69, 56), (79, 60), (69, 63), (58, 63)],\n",
    "[(124, 60), (134, 56), (144, 56), (152, 58), (145, 63), (134, 63)],\n",
    "[],\n",
    "[(67, 58), (78, 56), (89, 56), (98, 61), (88, 63), (77, 62)],\n",
    "[(144, 61), (154, 57), (164, 56), (172, 59), (164, 63), (154, 63)],\n",
    "[(67, 58), (77, 56), (88, 56), (98, 61), (87, 63), (76, 63)],\n",
    "[(144, 61), (154, 57), (164, 56), (172, 59), (164, 63), (154, 63)],\n",
    "[(66, 58), (77, 56), (88, 56), (97, 61), (87, 63), (76, 62)],\n",
    "[(144, 61), (154, 57), (164, 56), (172, 59), (164, 63), (154, 63)],\n",
    "[(66, 58), (77, 55), (88, 56), (97, 61), (87, 63), (76, 63)],\n",
    "[(142, 61), (152, 56), (163, 55), (171, 58), (164, 63), (153, 63)],\n",
    "[(60, 59), (70, 57), (81, 57), (90, 61), (80, 63), (69, 63)],\n",
    "[(136, 60), (146, 56), (156, 56), (165, 58), (157, 62), (147, 63)],\n",
    "[(61, 59), (71, 56), (82, 57), (90, 61), (81, 63), (70, 63)],\n",
    "[(138, 61), (148, 56), (158, 55), (166, 58), (159, 63), (149, 63)],\n",
    "[(61, 56), (71, 53), (82, 53), (91, 58), (81, 61), (70, 61)],\n",
    "[],\n",
    "[],\n",
    "[(137, 57), (147, 52), (157, 52), (165, 55), (158, 59), (148, 59)],\n",
    "[(35, 47), (47, 46), (58, 47), (67, 51), (57, 53), (46, 52)],\n",
    "[(112, 53), (122, 48), (133, 48), (140, 51), (133, 55), (123, 55)],\n",
    "[(68, 78), (80, 75), (91, 75), (101, 81), (90, 83), (78, 83)],\n",
    "[(146, 81), (157, 76), (167, 76), (175, 78), (168, 83), (158, 84)],\n",
    "[(31, 49), (42, 47), (54, 47), (63, 53), (52, 55), (41, 54)],\n",
    "[(108, 53), (118, 48), (128, 47), (136, 50), (129, 55), (119, 56)],\n",
    "[(31, 51), (42, 48), (54, 48), (63, 54), (52, 56), (41, 55)],\n",
    "[(107, 54), (117, 48), (128, 48), (136, 51), (129, 56), (118, 56)],\n",
    "[(64, 59), (74, 55), (85, 56), (96, 61), (85, 64), (73, 63)],\n",
    "[(141, 60), (151, 54), (161, 54), (170, 57), (162, 62), (152, 62)],\n",
    "[(59, 59), (70, 57), (81, 57), (90, 61), (80, 63), (69, 63)],\n",
    "[(136, 60), (147, 55), (157, 55), (165, 57), (158, 61), (148, 62)],\n",
    "[(61, 60), (72, 59), (82, 59), (92, 62), (82, 64), (71, 64)],\n",
    "[(136, 61), (147, 59), (156, 59), (165, 60), (157, 64), (147, 64)],\n",
    "[(59, 59), (70, 56), (81, 56), (91, 61), (81, 64), (69, 63)],\n",
    "[(137, 60), (147, 55), (157, 54), (166, 57), (158, 62), (148, 63)],\n",
    "[(60, 58), (71, 55), (82, 55), (92, 61), (81, 63), (70, 63)],\n",
    "[],\n",
    "[(137, 60), (148, 54), (158, 54), (167, 57), (159, 62), (149, 62)],\n",
    "[(64, 58), (75, 56), (85, 56), (95, 60), (85, 62), (74, 62)],\n",
    "[(140, 59), (150, 56), (160, 55), (168, 57), (160, 62), (150, 62)]]"
   ]
  },
  {
   "cell_type": "markdown",
   "metadata": {
    "id": "WB281MooWnTJ"
   },
   "source": [
    "### Write your code here"
   ]
  },
  {
   "cell_type": "code",
   "execution_count": 116,
   "metadata": {
    "id": "x5PkpNiRWnTK"
   },
   "outputs": [],
   "source": [
    "#========Write your code here==========\n",
    "\n",
    "def distance(pi,pj):\n",
    "    return\n",
    "\n",
    "def eye_aspect_ratio(lm):\n",
    "    return\n",
    "\n",
    "\n",
    "\n",
    "\n",
    "#======================================"
   ]
  },
  {
   "cell_type": "markdown",
   "metadata": {
    "id": "aULoXXPUWnTN"
   },
   "source": [
    "### Call the functions to calculate the EARs and store them in a list"
   ]
  },
  {
   "cell_type": "code",
   "execution_count": 117,
   "metadata": {},
   "outputs": [],
   "source": [
    "ears = [eye_aspect_ratio(lm) for lm in landmarks if bool(lm)]"
   ]
  },
  {
   "cell_type": "markdown",
   "metadata": {
    "id": "No-AHfHwWnTT"
   },
   "source": [
    "### Plot the EARs vs frames"
   ]
  },
  {
   "cell_type": "code",
   "execution_count": 118,
   "metadata": {},
   "outputs": [
    {
     "name": "stdout",
     "output_type": "stream",
     "text": [
      "ears = [None, None, None, None, None, None, None, None, None, None, None, None, None, None, None, None, None, None, None, None, None, None, None, None, None, None, None, None, None, None, None, None, None, None, None, None]\n"
     ]
    }
   ],
   "source": [
    "print('ears =',ears)"
   ]
  },
  {
   "cell_type": "code",
   "execution_count": 119,
   "metadata": {
    "id": "EbXS4RNZWnTU",
    "outputId": "437fef2a-3ced-4a17-ee93-964e344a27cd"
   },
   "outputs": [
    {
     "data": {
      "image/png": "[encoded data removed]",
      "text/plain": [
       "<Figure size 640x480 with 1 Axes>"
      ]
     },
     "metadata": {},
     "output_type": "display_data"
    }
   ],
   "source": [
    "plt.title('Eyes aspect ratio vs frames')\n",
    "plt.ylabel('Eyes aspect ratio')\n",
    "plt.xlabel('Video frames')\n",
    "plt.plot(ears)\n",
    "plt.savefig('ears.jpg')\n",
    "plt.show()"
   ]
  },
  {
   "cell_type": "markdown",
   "metadata": {
    "id": "X6N3cOluWnTa"
   },
   "source": [
    "### Expected output"
   ]
  },
  {
   "cell_type": "markdown",
   "metadata": {
    "id": "Hm4eXOgcWnTa"
   },
   "source": [
    "ears = [0.22648184989793518,\n",
    " 0.25063051794381147,\n",
    " 0.21117201950607664,\n",
    " 0.23155291246070636,\n",
    " 0.22703830459324992,\n",
    " 0.23155291246070636,\n",
    " 0.21117201950607664,\n",
    " 0.23155291246070636,\n",
    " 0.2429509000233231,\n",
    " 0.25953439220690955,\n",
    " 0.2023096723832625,\n",
    " 0.22625276007367182,\n",
    " 0.22625276007367182,\n",
    " 0.2687000738164234,\n",
    " 0.26814670400222457,\n",
    " 0.2518963609299392,\n",
    " 0.18861845900368043,\n",
    " 0.25063051794381147,\n",
    " 0.24608323461401413,\n",
    " 0.25953439220690955,\n",
    " 0.2374843304025684,\n",
    " 0.2862991671569341,\n",
    " 0.23828761383319533,\n",
    " 0.27653315937748607,\n",
    " 0.25048402753040816,\n",
    " 0.27653315937748607,\n",
    " 0.19581105411063263,\n",
    " 0.22558632928856764,\n",
    " 0.1625494704577511,\n",
    " 0.17401759809437203,\n",
    " 0.23502684515816877,\n",
    " 0.27653315937748607,\n",
    " 0.25084561729742894,\n",
    " 0.2674082098871901,\n",
    " 0.19447894405226387,\n",
    " 0.23155291246070636]"
   ]
  },
  {
   "cell_type": "markdown",
   "metadata": {
    "id": "tzNZ4qgmWnTb"
   },
   "source": [
    "<br>\n",
    "\n",
    "<img src=\"ears.jpg\" width=\"420\" height=\"420\" />    \n",
    "\n",
    "<br>"
   ]
  },
  {
   "cell_type": "markdown",
   "metadata": {},
   "source": [
    "# Exercise 2 - Power Set"
   ]
  },
  {
   "cell_type": "markdown",
   "metadata": {},
   "source": [
    "## Power set function"
   ]
  },
  {
   "cell_type": "code",
   "execution_count": null,
   "metadata": {},
   "outputs": [],
   "source": [
    "input_set = [1,2,3]\n",
    "#input_set = np.random.randint(0,100,5) #uncomment this line to generate random integers\n",
    "\n",
    "#========Write your code here==========\n",
    "\n",
    "def power_set():\n",
    "    return\n",
    "\n",
    "\n",
    "\n",
    "\n",
    "\n",
    "\n",
    "\n",
    "#======================================\n",
    "\n",
    "\n",
    "ans = power_set(input_set)\n",
    "set(ans)"
   ]
  },
  {
   "cell_type": "code",
   "execution_count": null,
   "metadata": {},
   "outputs": [],
   "source": [
    "expected_output = []\n",
    "for i in range(len(input_set)+1):\n",
    "    expected_output.extend(tuple(combinations(input_set,i)))\n",
    "\n",
    "print('Answer correct?',set(expected_output)==set(ans))\n",
    "print('Expected output:')\n",
    "set(expected_output)"
   ]
  },
  {
   "cell_type": "markdown",
   "metadata": {},
   "source": [
    "## Combination function"
   ]
  },
  {
   "cell_type": "code",
   "execution_count": null,
   "metadata": {},
   "outputs": [],
   "source": [
    "input_set = [1,2,3,4,5]\n",
    "r = 2\n",
    "#input_set = np.random.randint(0,100,5) #uncomment this line to generate random integers\n",
    "\n",
    "#========Write your code here==========\n",
    "\n",
    "def generate_combinations():\n",
    "    return\n",
    "\n",
    "\n",
    "\n",
    "\n",
    "\n",
    "\n",
    "\n",
    "#======================================\n",
    "ans = set(generate_combinations(input_set, r))\n",
    "set(ans)"
   ]
  },
  {
   "cell_type": "code",
   "execution_count": null,
   "metadata": {},
   "outputs": [],
   "source": [
    "expected_output = set(combinations(input_set, r))\n",
    "print('Answer correct?',expected_output==ans)\n",
    "print('Expected output:')\n",
    "set(expected_output)"
   ]
  },
  {
   "cell_type": "markdown",
   "metadata": {},
   "source": [
    "# Exercise 3 - Class and Object"
   ]
  },
  {
   "cell_type": "code",
   "execution_count": null,
   "metadata": {},
   "outputs": [],
   "source": [
    "# rectangle class\n",
    "class rectangle:\n",
    "    \n",
    "#========Write your code here==========\n",
    "\n",
    "\n",
    "\n",
    "\n",
    "\n",
    "        \n",
    "#======================================     \n",
    "\n",
    "    # Method to draw the rectanlge, DO NOT edit this method\n",
    "    def draw(self):\n",
    "        rectangle = plt.Rectangle((0,0),self.width,self.height, facecolor=\"tab:blue\",\n",
    "                    edgecolor=\"tab:blue\", linewidth=3)\n",
    "        plt.gca().add_patch(rectangle)\n",
    "        plt.axis('equal')\n",
    "        plt.show()\n",
    "        \n",
    "# square class        \n",
    "class square(rectangle):\n",
    "    \n",
    "#========Write your code here==========\n",
    "\n",
    "\n",
    "        \n",
    "    \n",
    "    \n",
    "#======================================"
   ]
  },
  {
   "cell_type": "code",
   "execution_count": null,
   "metadata": {},
   "outputs": [],
   "source": [
    "r1 = rectangle(5,10)\n",
    "\n",
    "print('The perimeter of the rectangle is:', r1.get_perimeter())\n",
    "print('The area of the rectangle is:', r1.get_area())\n",
    "r1.draw()"
   ]
  },
  {
   "cell_type": "code",
   "execution_count": null,
   "metadata": {},
   "outputs": [],
   "source": [
    "s1 = square(10)\n",
    "\n",
    "print('The perimeter of the square is:', s1.get_perimeter())\n",
    "print('The area of the square is:', s1.get_area())\n",
    "s1.draw()"
   ]
  },
  {
   "cell_type": "markdown",
   "metadata": {},
   "source": [
    "# Programming Challenges"
   ]
  },
  {
   "cell_type": "markdown",
   "metadata": {},
   "source": [
    "Given an array of integers ``nums`` and an integer ``target``, return *indices of the two numbers such that they add up to ``target``*.\n",
    "\n",
    "You may assume that each input **may have no solution**, and you may not use the **same element** twice.\n",
    "\n",
    "You can return the answer in any order."
   ]
  },
  {
   "cell_type": "markdown",
   "metadata": {},
   "source": [
    "Here is one of the solutions, it has a time complexity of $O(n^2)$, can you improve this? "
   ]
  },
  {
   "cell_type": "code",
   "execution_count": null,
   "metadata": {},
   "outputs": [],
   "source": [
    "from datetime import datetime\n",
    "import numpy as np\n",
    "import random"
   ]
  },
  {
   "cell_type": "code",
   "execution_count": null,
   "metadata": {},
   "outputs": [],
   "source": [
    "class Solution:\n",
    "    def twoSum(self, nums: list[int], target: int) -> list[int]:\n",
    "        solution = []\n",
    "        for i in range(len(nums)-1):\n",
    "            for j in range(i+1,len(nums)):\n",
    "                if nums[i]+nums[j]==target:\n",
    "                    solution.extend([i,j])\n",
    "        return solution"
   ]
  },
  {
   "cell_type": "code",
   "execution_count": null,
   "metadata": {},
   "outputs": [],
   "source": [
    "testCases = [\n",
    "    [[13,  6,  7, 19,  8,  5,  3, 10, 12,  2], 15],\n",
    "    [[ 6, 14, 15,  1,  2],20],\n",
    "    [[ 2, 17,  5, 17,  9,  3, 16,  4,  8,  1,  6,  2, 15, 10,  4],13],\n",
    "    [[39, 38, 40, 38, 40, 47, 20,  1, 32, 35, 36,  8, 31, 17, 37],57],\n",
    "    [[43, 34, 36, 27, 20, 49, 22, 23,  7, 28, 38, 47, 34],65],\n",
    "]"
   ]
  },
  {
   "cell_type": "code",
   "execution_count": null,
   "metadata": {},
   "outputs": [
    {
     "name": "stdout",
     "output_type": "stream",
     "text": [
      "Input:[13, 6, 7, 19, 8, 5, 3, 10, 12, 2], Target: 15, \n",
      "Output: [0, 2, 4, 5, 6, 7, 8, 9] \n",
      "\n",
      "Input:[6, 14, 15, 1, 2], Target: 20, \n",
      "Output: [0, 1] \n",
      "\n",
      "Input:[2, 17, 5, 17, 9, 3, 16, 4, 8, 1, 6, 2, 15, 10, 4], Target: 13, \n",
      "Output: [2, 4, 4, 5, 7, 8, 13, 14] \n",
      "\n",
      "Input:[39, 38, 40, 38, 40, 47, 20, 1, 32, 35, 36, 8, 31, 17, 37], Target: 57, \n",
      "Output: [2, 4, 6, 13, 13, 14] \n",
      "\n",
      "Input:[43, 34, 36, 27, 20, 49, 22, 23, 7, 28, 38, 47, 34], Target: 65, \n",
      "Output: [0, 3, 6, 10] \n",
      "\n"
     ]
    }
   ],
   "source": [
    "s1 = Solution()\n",
    "\n",
    "for case in testCases:\n",
    "    print( f'Input:{case[0]}, Target: {case[1]}, \\nOutput: {sorted(s1.twoSum(*case))} \\n' )"
   ]
  },
  {
   "cell_type": "markdown",
   "metadata": {},
   "source": [
    "# Your Answer"
   ]
  },
  {
   "cell_type": "code",
   "execution_count": null,
   "metadata": {},
   "outputs": [],
   "source": [
    "class mySolution:\n",
    "    def twoSum(self, nums: list[int], target: int) -> list[int]:\n",
    "        \n",
    "        solution = []  \n",
    "\n",
    "\n",
    "\n",
    "        return solution"
   ]
  },
  {
   "cell_type": "code",
   "execution_count": null,
   "metadata": {},
   "outputs": [
    {
     "name": "stdout",
     "output_type": "stream",
     "text": [
      "Input:[13, 6, 7, 19, 8, 5, 3, 10, 12, 2], target: 15, \n",
      "output: [0, 2, 4, 5, 6, 7, 8, 9] \n",
      "\n",
      "Input:[6, 14, 15, 1, 2], target: 20, \n",
      "output: [0, 1] \n",
      "\n",
      "Input:[2, 17, 5, 17, 9, 3, 16, 4, 8, 1, 6, 2, 15, 10, 4], target: 13, \n",
      "output: [2, 4, 4, 5, 7, 8, 13, 14] \n",
      "\n",
      "Input:[39, 38, 40, 38, 40, 47, 20, 1, 32, 35, 36, 8, 31, 17, 37], target: 57, \n",
      "output: [4, 6, 13, 14] \n",
      "\n",
      "Input:[43, 34, 36, 27, 20, 49, 22, 23, 7, 28, 38, 47, 34], target: 65, \n",
      "output: [0, 3, 6, 10] \n",
      "\n"
     ]
    }
   ],
   "source": [
    "s2 = mySolution()\n",
    "\n",
    "for case in testCases:\n",
    "    print( f'Input:{case[0]}, target: {case[1]}, \\noutput: {sorted(s2.twoSum(*case))} \\n' )"
   ]
  },
  {
   "cell_type": "markdown",
   "metadata": {},
   "source": [
    "# Testing with random test cases"
   ]
  },
  {
   "cell_type": "markdown",
   "metadata": {},
   "source": [
    "## Generate random test cases"
   ]
  },
  {
   "cell_type": "code",
   "execution_count": 123,
   "metadata": {},
   "outputs": [],
   "source": [
    "randomTestCases = []\n",
    "for i in range(1000):\n",
    "    size = np.random.randint(10,50)\n",
    "    arr_in = np.unique(np.random.randint(0,100,size=size)).tolist()\n",
    "    target = np.random.randint(150)\n",
    "    randomTestCases.append([arr_in, target])\n"
   ]
  },
  {
   "cell_type": "markdown",
   "metadata": {},
   "source": [
    "## Calculate accuracy of your solution"
   ]
  },
  {
   "cell_type": "code",
   "execution_count": 124,
   "metadata": {},
   "outputs": [
    {
     "name": "stdout",
     "output_type": "stream",
     "text": [
      "Accuracy: 1.0\n"
     ]
    }
   ],
   "source": [
    "s1 = Solution()\n",
    "s2 = mySolution()\n",
    "wrong = 0\n",
    "\n",
    "for case in randomTestCases:\n",
    "    \n",
    "    ans1 = sorted(set(s1.twoSum(*case)))\n",
    "    ans2 = sorted(set(s2.twoSum(*case)))\n",
    "    if ans1 != ans2:\n",
    "        wrong += 1\n",
    "        print('Case:', case)\n",
    "        print('Expected:', ans1)\n",
    "        print('Output:', ans2)\n",
    "    \n",
    "print('Accuracy:', 1-wrong/len(randomTestCases))"
   ]
  },
  {
   "cell_type": "markdown",
   "metadata": {},
   "source": [
    "## Average time taken for brute force solution "
   ]
  },
  {
   "cell_type": "code",
   "execution_count": 125,
   "metadata": {},
   "outputs": [
    {
     "name": "stdout",
     "output_type": "stream",
     "text": [
      "34.7 ms ± 1.12 ms per loop (mean ± std. dev. of 7 runs, 100 loops each)\n"
     ]
    }
   ],
   "source": [
    "%%timeit -n 100\n",
    "\n",
    "for case in randomTestCases:\n",
    "    s1.twoSum(*case)"
   ]
  },
  {
   "cell_type": "markdown",
   "metadata": {},
   "source": [
    "## Average time taken for your solution "
   ]
  },
  {
   "cell_type": "code",
   "execution_count": 126,
   "metadata": {},
   "outputs": [
    {
     "name": "stdout",
     "output_type": "stream",
     "text": [
      "4.98 ms ± 70.8 µs per loop (mean ± std. dev. of 7 runs, 100 loops each)\n"
     ]
    }
   ],
   "source": [
    "%%timeit -n 100\n",
    "\n",
    "for case in randomTestCases:\n",
    "    s2.twoSum(*case)"
   ]
  },
  {
   "cell_type": "code",
   "execution_count": null,
   "metadata": {},
   "outputs": [],
   "source": []
  }
 ],
 "metadata": {
  "colab": {
   "name": "basic_python(ref ans)(lesson2).ipynb",
   "provenance": []
  },
  "kernelspec": {
   "display_name": "Python 3",
   "language": "python",
   "name": "python3"
  },
  "language_info": {
   "codemirror_mode": {
    "name": "ipython",
    "version": 3
   },
   "file_extension": ".py",
   "mimetype": "text/x-python",
   "name": "python",
   "nbconvert_exporter": "python",
   "pygments_lexer": "ipython3",
   "version": "3.9.16"
  }
 },
 "nbformat": 4,
 "nbformat_minor": 1
}
