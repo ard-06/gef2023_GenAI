{
 "cells": [
  {
   "cell_type": "markdown",
   "metadata": {},
   "source": [
    "# Installing python-binance"
   ]
  },
  {
   "cell_type": "code",
   "execution_count": 1,
   "metadata": {},
   "outputs": [
    {
     "name": "stdout",
     "output_type": "stream",
     "text": [
      "Requirement already satisfied: python-binance in /opt/sagemath-9.3/local/lib/python3.7/site-packages (1.0.19)\n",
      "Requirement already satisfied: websockets in /opt/sagemath-9.3/local/lib/python3.7/site-packages (from python-binance) (11.0.3)\n",
      "Requirement already satisfied: pycryptodome in /opt/sagemath-9.3/local/lib/python3.7/site-packages (from python-binance) (3.18.0)\n",
      "Requirement already satisfied: aiohttp in /opt/sagemath-9.3/local/lib/python3.7/site-packages (from python-binance) (3.8.5)\n",
      "Requirement already satisfied: requests in /opt/sagemath-9.3/local/lib/python3.7/site-packages (from python-binance) (2.13.0)\n",
      "Requirement already satisfied: dateparser in /opt/sagemath-9.3/local/lib/python3.7/site-packages (from python-binance) (1.1.8)\n",
      "Requirement already satisfied: six in /opt/sagemath-9.3/local/lib/python3.7/site-packages (from python-binance) (1.15.0)\n",
      "Requirement already satisfied: ujson in /opt/sagemath-9.3/local/lib/python3.7/site-packages (from python-binance) (5.7.0)\n",
      "Requirement already satisfied: charset-normalizer<4.0,>=2.0 in /opt/sagemath-9.3/local/lib/python3.7/site-packages (from aiohttp->python-binance) (3.2.0)\n",
      "Requirement already satisfied: async-timeout<5.0,>=4.0.0a3 in /opt/sagemath-9.3/local/lib/python3.7/site-packages (from aiohttp->python-binance) (4.0.3)\n",
      "Requirement already satisfied: attrs>=17.3.0 in /opt/sagemath-9.3/local/lib/python3.7/site-packages (from aiohttp->python-binance) (19.3.0)\n",
      "Requirement already satisfied: frozenlist>=1.1.1 in /opt/sagemath-9.3/local/lib/python3.7/site-packages (from aiohttp->python-binance) (1.3.3)\n",
      "Requirement already satisfied: yarl<2.0,>=1.0 in /opt/sagemath-9.3/local/lib/python3.7/site-packages (from aiohttp->python-binance) (1.9.2)\n",
      "Requirement already satisfied: typing-extensions>=3.7.4 in /opt/sagemath-9.3/local/lib/python3.7/site-packages (from aiohttp->python-binance) (4.7.1)\n",
      "Requirement already satisfied: multidict<7.0,>=4.5 in /opt/sagemath-9.3/local/lib/python3.7/site-packages (from aiohttp->python-binance) (6.0.4)\n",
      "Requirement already satisfied: asynctest==0.13.0 in /opt/sagemath-9.3/local/lib/python3.7/site-packages (from aiohttp->python-binance) (0.13.0)\n",
      "Requirement already satisfied: aiosignal>=1.1.2 in /opt/sagemath-9.3/local/lib/python3.7/site-packages (from aiohttp->python-binance) (1.3.1)\n",
      "Requirement already satisfied: idna>=2.0 in /opt/sagemath-9.3/local/lib/python3.7/site-packages (from yarl<2.0,>=1.0->aiohttp->python-binance) (3.4)\n",
      "Requirement already satisfied: python-dateutil in /opt/sagemath-9.3/local/lib/python3.7/site-packages (from dateparser->python-binance) (2.8.1)\n",
      "Requirement already satisfied: tzlocal in /opt/sagemath-9.3/local/lib/python3.7/site-packages (from dateparser->python-binance) (2.1)\n",
      "Requirement already satisfied: regex!=2019.02.19,!=2021.8.27 in /opt/sagemath-9.3/local/lib/python3.7/site-packages (from dateparser->python-binance) (2023.8.8)\n",
      "Requirement already satisfied: pytz in /opt/sagemath-9.3/local/lib/python3.7/site-packages (from dateparser->python-binance) (2020.4)\n",
      "\u001b[33mWARNING: You are using pip version 21.0.1; however, version 23.2.1 is available.\n",
      "You should consider upgrading via the '/opt/sagemath-9.3/local/bin/python3 -m pip install --upgrade pip' command.\u001b[0m\n"
     ]
    }
   ],
   "source": [
    "!pip install python-binance"
   ]
  },
  {
   "cell_type": "markdown",
   "metadata": {},
   "source": [
    "# Initialise the client"
   ]
  },
  {
   "cell_type": "code",
   "execution_count": 2,
   "metadata": {},
   "outputs": [],
   "source": [
    "from binance import Client\n",
    "from binance.enums import HistoricalKlinesType\n",
    "from datetime import datetime\n",
    "\n",
    "api_key = ''\n",
    "api_secret = ''\n",
    "client = Client(api_key, api_secret)"
   ]
  },
  {
   "cell_type": "markdown",
   "metadata": {},
   "source": [
    "# Getting data using a function"
   ]
  },
  {
   "cell_type": "code",
   "execution_count": 3,
   "metadata": {},
   "outputs": [
    {
     "name": "stdout",
     "output_type": "stream",
     "text": [
      "0:00:19.687100\n"
     ]
    }
   ],
   "source": [
    "start_time = datetime.now()\n",
    "\n",
    "symbol = 'BTCUSDT'\n",
    "interval = '1m'\n",
    "start = '01/07/2022 00:00:00'\n",
    "end = '02/07/2022 23:59:59'\n",
    "\n",
    "klines = client.get_historical_klines(\n",
    "    symbol=symbol,\n",
    "    interval=interval,\n",
    "    start_str=start,\n",
    "    end_str=end,\n",
    "    klines_type=HistoricalKlinesType.FUTURES\n",
    ")\n",
    "\n",
    "print(datetime.now() - start_time)"
   ]
  },
  {
   "cell_type": "code",
   "execution_count": 4,
   "metadata": {},
   "outputs": [
    {
     "data": {
      "text/plain": [
       "[1641513600000,\n",
       " '43080.01',\n",
       " '43135.00',\n",
       " '43080.00',\n",
       " '43124.30',\n",
       " '85.415',\n",
       " 1641513659999,\n",
       " '3681641.29144',\n",
       " 1251,\n",
       " '54.280',\n",
       " '2339538.08441',\n",
       " '0']"
      ]
     },
     "execution_count": 4,
     "metadata": {},
     "output_type": "execute_result"
    }
   ],
   "source": [
    "klines[0]"
   ]
  },
  {
   "cell_type": "markdown",
   "metadata": {},
   "source": [
    "# Getting data using a generator"
   ]
  },
  {
   "cell_type": "code",
   "execution_count": 5,
   "metadata": {},
   "outputs": [
    {
     "name": "stdout",
     "output_type": "stream",
     "text": [
      "0:00:00.010312\n"
     ]
    }
   ],
   "source": [
    "start_time = datetime.now()\n",
    "\n",
    "symbol = 'BTCUSDT'\n",
    "interval = '1m'\n",
    "start = '01/07/2022 00:00:00'\n",
    "end = '02/07/2022 23:59:59'\n",
    "\n",
    "klines = client.get_historical_klines_generator(\n",
    "    symbol=symbol,\n",
    "    interval=interval,\n",
    "    start_str=start,\n",
    "    end_str=end,\n",
    "    klines_type=HistoricalKlinesType.FUTURES\n",
    ")\n",
    "\n",
    "print(datetime.now() - start_time)"
   ]
  },
  {
   "cell_type": "code",
   "execution_count": 6,
   "metadata": {},
   "outputs": [
    {
     "data": {
      "text/plain": [
       "[1641513600000,\n",
       " '43080.01',\n",
       " '43135.00',\n",
       " '43080.00',\n",
       " '43124.30',\n",
       " '85.415',\n",
       " 1641513659999,\n",
       " '3681641.29144',\n",
       " 1251,\n",
       " '54.280',\n",
       " '2339538.08441',\n",
       " '0']"
      ]
     },
     "execution_count": 6,
     "metadata": {},
     "output_type": "execute_result"
    }
   ],
   "source": [
    "next(klines)"
   ]
  }
 ],
 "metadata": {
  "kernelspec": {
   "display_name": "SageMath 9.3",
   "language": "sage",
   "name": "sagemath"
  },
  "language_info": {
   "codemirror_mode": {
    "name": "ipython",
    "version": 3
   },
   "file_extension": ".py",
   "mimetype": "text/x-python",
   "name": "python",
   "nbconvert_exporter": "python",
   "pygments_lexer": "ipython3",
   "version": "3.7.10"
  }
 },
 "nbformat": 4,
 "nbformat_minor": 4
}
